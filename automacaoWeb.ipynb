{
 "cells": [
  {
   "cell_type": "markdown",
   "id": "fabc82ee-21c8-4c55-9afb-29bca657a4cb",
   "metadata": {},
   "source": [
    "# Construindo uma Antomação Web"
   ]
  },
  {
   "cell_type": "code",
   "execution_count": 1,
   "id": "1f118df3-4c3b-4a69-b434-c9d9076768cd",
   "metadata": {
    "tags": []
   },
   "outputs": [
    {
     "name": "stdout",
     "output_type": "stream",
     "text": [
      "Versão do Pandas: 2.0.3\n",
      "Versão do Selenium: 4.15.2\n"
     ]
    }
   ],
   "source": [
    "# Obtendo as bibliotecas e verificando sua versão\n",
    "import pandas as pd\n",
    "import selenium\n",
    "from selenium import webdriver\n",
    "from selenium.webdriver.common.by import By\n",
    "from selenium.webdriver.common.keys import Keys\n",
    "from datetime import datetime as dt\n",
    "import time\n",
    "# Verificando as versões \n",
    "print('Versão do Pandas:', pd.__version__) \n",
    "print('Versão do Selenium:', selenium.__version__)\n",
    "\n"
   ]
  },
  {
   "cell_type": "markdown",
   "id": "0558b7c4-fd39-402a-883c-6bb890747fbd",
   "metadata": {},
   "source": [
    "# 1. Obtendo as Cotações Atualizadas"
   ]
  },
  {
   "cell_type": "code",
   "execution_count": 2,
   "id": "174a3571-0f1a-4bae-b271-e2a2febdd2ba",
   "metadata": {
    "tags": []
   },
   "outputs": [
    {
     "name": "stdout",
     "output_type": "stream",
     "text": [
      "Cotação do Euro :  5.431254444\n",
      "Cotação do Dolar:  4.989599999999999\n"
     ]
    }
   ],
   "source": [
    "# Etapa 1: abrir um navegador\n",
    "navegador = webdriver.Chrome()\n",
    "\n",
    "# Etapa 2: Obtendo o Xpath\n",
    "# Obtendo o xpath da página de busca caixa de busca do Google\n",
    "caixa_texto_busca = '/html/body/div[1]/div[3]/form/div[1]/div[1]/div[1]/div/div[2]/div/textarea'\n",
    "# Como os objetos são iguais obtemos o #path do obejto buscado \n",
    "objeto_buscado = '//*[@id=\"knowledge-currency__updatable-data-column\"]/div[1]/div[2]/span[1]'\n",
    "\n",
    "# Etapa 3: Obtendo as cotações online:\n",
    "# Dólar\n",
    "navegador.get(\"https://www.google.com/\")\n",
    "navegador.find_element(By.XPATH, caixa_texto_busca).send_keys(\"cotação dólar\")\n",
    "navegador.find_element(By.XPATH,caixa_texto_busca ).send_keys(Keys.ENTER)\n",
    "cotacao_dolar = navegador.find_element(By.XPATH, objeto_buscado).get_attribute(\"data-value\") \n",
    "# Euro\n",
    "navegador.get(\"https://www.google.com/\")\n",
    "navegador.find_element(By.XPATH, caixa_texto_busca).send_keys(\"cotação euro\")\n",
    "navegador.find_element(By.XPATH, caixa_texto_busca).send_keys(Keys.ENTER)\n",
    "cotacao_euro = navegador.find_element(By.XPATH, objeto_buscado).get_attribute(\"data-value\")\n",
    "\n",
    "# Visualizando as Variáveis\n",
    "print('Cotação do Euro : ', cotacao_euro)\n",
    "print('Cotação do Dolar: ', cotacao_dolar)\n",
    "\n",
    "# Etapa 4: Fechando o navegador\n",
    "navegador.quit()"
   ]
  },
  {
   "cell_type": "markdown",
   "id": "2c75fe09-fac1-4a59-8691-6ed72a6128a4",
   "metadata": {},
   "source": [
    "# 2. Contruindo uma tabela para executar uma atualização\n",
    "\n",
    "Supondo que temos uma base de dados que necessitamos atualizar o preço de aquisição e o de venda, considerando ainda a margem de lucro sobre o preço do produto.\n"
   ]
  },
  {
   "cell_type": "code",
   "execution_count": 3,
   "id": "04a15455-ab32-484e-af4e-c5597f0f72cd",
   "metadata": {
    "tags": []
   },
   "outputs": [
    {
     "data": {
      "text/html": [
       "<div>\n",
       "<style scoped>\n",
       "    .dataframe tbody tr th:only-of-type {\n",
       "        vertical-align: middle;\n",
       "    }\n",
       "\n",
       "    .dataframe tbody tr th {\n",
       "        vertical-align: top;\n",
       "    }\n",
       "\n",
       "    .dataframe thead th {\n",
       "        text-align: right;\n",
       "    }\n",
       "</style>\n",
       "<table border=\"1\" class=\"dataframe\">\n",
       "  <thead>\n",
       "    <tr style=\"text-align: right;\">\n",
       "      <th></th>\n",
       "      <th>Cod</th>\n",
       "      <th>Produto</th>\n",
       "      <th>Valor Original</th>\n",
       "      <th>Moedas</th>\n",
       "      <th>Cotação</th>\n",
       "      <th>Valor Compra</th>\n",
       "      <th>Margem</th>\n",
       "      <th>Valor Venda</th>\n",
       "      <th>Data Atualização</th>\n",
       "    </tr>\n",
       "  </thead>\n",
       "  <tbody>\n",
       "    <tr>\n",
       "      <th>0</th>\n",
       "      <td>1</td>\n",
       "      <td>TV Plasma</td>\n",
       "      <td>1000</td>\n",
       "      <td>Dólar</td>\n",
       "      <td>1</td>\n",
       "      <td>1000</td>\n",
       "      <td>1.5</td>\n",
       "      <td>1500</td>\n",
       "      <td>01/01/2023</td>\n",
       "    </tr>\n",
       "    <tr>\n",
       "      <th>1</th>\n",
       "      <td>2</td>\n",
       "      <td>Xbox S</td>\n",
       "      <td>800</td>\n",
       "      <td>Euro</td>\n",
       "      <td>1</td>\n",
       "      <td>800</td>\n",
       "      <td>1.5</td>\n",
       "      <td>1200</td>\n",
       "      <td>01/01/2023</td>\n",
       "    </tr>\n",
       "    <tr>\n",
       "      <th>2</th>\n",
       "      <td>3</td>\n",
       "      <td>PS5</td>\n",
       "      <td>900</td>\n",
       "      <td>Euro</td>\n",
       "      <td>1</td>\n",
       "      <td>900</td>\n",
       "      <td>1.5</td>\n",
       "      <td>1350</td>\n",
       "      <td>01/01/2023</td>\n",
       "    </tr>\n",
       "    <tr>\n",
       "      <th>3</th>\n",
       "      <td>4</td>\n",
       "      <td>Notebook</td>\n",
       "      <td>750</td>\n",
       "      <td>Dólar</td>\n",
       "      <td>1</td>\n",
       "      <td>600</td>\n",
       "      <td>1.5</td>\n",
       "      <td>900</td>\n",
       "      <td>01/01/2023</td>\n",
       "    </tr>\n",
       "    <tr>\n",
       "      <th>4</th>\n",
       "      <td>5</td>\n",
       "      <td>Violão</td>\n",
       "      <td>300</td>\n",
       "      <td>Euro</td>\n",
       "      <td>1</td>\n",
       "      <td>300</td>\n",
       "      <td>1.5</td>\n",
       "      <td>450</td>\n",
       "      <td>01/01/2023</td>\n",
       "    </tr>\n",
       "  </tbody>\n",
       "</table>\n",
       "</div>"
      ],
      "text/plain": [
       "   Cod    Produto  Valor Original Moedas  Cotação  Valor Compra  Margem  \\\n",
       "0    1  TV Plasma            1000  Dólar        1          1000     1.5   \n",
       "1    2     Xbox S             800   Euro        1           800     1.5   \n",
       "2    3        PS5             900   Euro        1           900     1.5   \n",
       "3    4   Notebook             750  Dólar        1           600     1.5   \n",
       "4    5     Violão             300   Euro        1           300     1.5   \n",
       "\n",
       "   Valor Venda Data Atualização  \n",
       "0         1500       01/01/2023  \n",
       "1         1200       01/01/2023  \n",
       "2         1350       01/01/2023  \n",
       "3          900       01/01/2023  \n",
       "4          450       01/01/2023  "
      ]
     },
     "execution_count": 3,
     "metadata": {},
     "output_type": "execute_result"
    }
   ],
   "source": [
    "# Etapa 5 : Construindo uma tabela para aplicar correção\n",
    "tabela = pd.DataFrame({'Cod': [1,2,3,4,5],\n",
    "                       'Produto': ['TV Plasma', 'Xbox S', 'PS5', 'Notebook', 'Violão'],\n",
    "                       'Valor Original': [1000, 800, 900, 750, 300],\n",
    "                       'Moedas': ['Dólar', 'Euro', 'Euro', 'Dólar', 'Euro'],\n",
    "                       'Cotação': [1, 1, 1, 1, 1],\n",
    "                       'Valor Compra': [1000, 800, 900, 600, 300],\n",
    "                       'Margem': [1.5, 1.5, 1.5,  1.5, 1.5],\n",
    "                       'Valor Venda': [1500, 1200, 1350, 900, 450], \n",
    "                       'Data Atualização': [\"01/01/2023\", \"01/01/2023\", \"01/01/2023\", \"01/01/2023\", \"01/01/2023\"]\n",
    "                       })\n",
    "\n",
    "# Visualizando a tabela\n",
    "tabela"
   ]
  },
  {
   "cell_type": "markdown",
   "id": "72cfe580-91b0-4bce-bf3b-d9f35f78cfb1",
   "metadata": {},
   "source": [
    "# 3. Executando a Atualização da Tabela Original pelas Novas Cotações\n",
    "\n",
    "Aplicando as Atualização da cotação e recalculando **Valor Compra** e **Valor Venda.**"
   ]
  },
  {
   "cell_type": "code",
   "execution_count": 4,
   "id": "042c7d2f-91ce-4ca0-9887-1ed0c2eaf601",
   "metadata": {
    "tags": []
   },
   "outputs": [
    {
     "data": {
      "text/html": [
       "<div>\n",
       "<style scoped>\n",
       "    .dataframe tbody tr th:only-of-type {\n",
       "        vertical-align: middle;\n",
       "    }\n",
       "\n",
       "    .dataframe tbody tr th {\n",
       "        vertical-align: top;\n",
       "    }\n",
       "\n",
       "    .dataframe thead th {\n",
       "        text-align: right;\n",
       "    }\n",
       "</style>\n",
       "<table border=\"1\" class=\"dataframe\">\n",
       "  <thead>\n",
       "    <tr style=\"text-align: right;\">\n",
       "      <th></th>\n",
       "      <th>Cod</th>\n",
       "      <th>Produto</th>\n",
       "      <th>Valor Original</th>\n",
       "      <th>Moedas</th>\n",
       "      <th>Cotação</th>\n",
       "      <th>Valor Compra</th>\n",
       "      <th>Margem</th>\n",
       "      <th>Valor Venda</th>\n",
       "      <th>Data Atualização</th>\n",
       "    </tr>\n",
       "  </thead>\n",
       "  <tbody>\n",
       "    <tr>\n",
       "      <th>0</th>\n",
       "      <td>1</td>\n",
       "      <td>TV Plasma</td>\n",
       "      <td>1000</td>\n",
       "      <td>Dólar</td>\n",
       "      <td>4.989600</td>\n",
       "      <td>4989.60</td>\n",
       "      <td>1.5</td>\n",
       "      <td>7484.40</td>\n",
       "      <td>23/01/2024 07:24</td>\n",
       "    </tr>\n",
       "    <tr>\n",
       "      <th>1</th>\n",
       "      <td>2</td>\n",
       "      <td>Xbox S</td>\n",
       "      <td>800</td>\n",
       "      <td>Euro</td>\n",
       "      <td>5.431254</td>\n",
       "      <td>4345.00</td>\n",
       "      <td>1.5</td>\n",
       "      <td>6517.50</td>\n",
       "      <td>23/01/2024 07:24</td>\n",
       "    </tr>\n",
       "    <tr>\n",
       "      <th>2</th>\n",
       "      <td>3</td>\n",
       "      <td>PS5</td>\n",
       "      <td>900</td>\n",
       "      <td>Euro</td>\n",
       "      <td>5.431254</td>\n",
       "      <td>4888.13</td>\n",
       "      <td>1.5</td>\n",
       "      <td>7332.20</td>\n",
       "      <td>23/01/2024 07:24</td>\n",
       "    </tr>\n",
       "    <tr>\n",
       "      <th>3</th>\n",
       "      <td>4</td>\n",
       "      <td>Notebook</td>\n",
       "      <td>750</td>\n",
       "      <td>Dólar</td>\n",
       "      <td>4.989600</td>\n",
       "      <td>3742.20</td>\n",
       "      <td>1.5</td>\n",
       "      <td>5613.30</td>\n",
       "      <td>23/01/2024 07:24</td>\n",
       "    </tr>\n",
       "    <tr>\n",
       "      <th>4</th>\n",
       "      <td>5</td>\n",
       "      <td>Violão</td>\n",
       "      <td>300</td>\n",
       "      <td>Euro</td>\n",
       "      <td>5.431254</td>\n",
       "      <td>1629.38</td>\n",
       "      <td>1.5</td>\n",
       "      <td>2444.07</td>\n",
       "      <td>23/01/2024 07:24</td>\n",
       "    </tr>\n",
       "  </tbody>\n",
       "</table>\n",
       "</div>"
      ],
      "text/plain": [
       "   Cod    Produto  Valor Original Moedas   Cotação  Valor Compra  Margem  \\\n",
       "0    1  TV Plasma            1000  Dólar  4.989600       4989.60     1.5   \n",
       "1    2     Xbox S             800   Euro  5.431254       4345.00     1.5   \n",
       "2    3        PS5             900   Euro  5.431254       4888.13     1.5   \n",
       "3    4   Notebook             750  Dólar  4.989600       3742.20     1.5   \n",
       "4    5     Violão             300   Euro  5.431254       1629.38     1.5   \n",
       "\n",
       "   Valor Venda  Data Atualização  \n",
       "0      7484.40  23/01/2024 07:24  \n",
       "1      6517.50  23/01/2024 07:24  \n",
       "2      7332.20  23/01/2024 07:24  \n",
       "3      5613.30  23/01/2024 07:24  \n",
       "4      2444.07  23/01/2024 07:24  "
      ]
     },
     "execution_count": 4,
     "metadata": {},
     "output_type": "execute_result"
    }
   ],
   "source": [
    "# Etapa 6: Aplicano a atualização da coluna Moedas\n",
    "# Atualizando data\n",
    "tabela['Data Atualização'] = dt.now().strftime(\"%d/%m/%Y %H:%M\")\n",
    "\n",
    "# Atualizando moedas\n",
    "tabela.loc[tabela['Moedas']=='Dólar', 'Cotação']= float(cotacao_dolar)\n",
    "tabela.loc[tabela['Moedas']=='Euro', 'Cotação']= float(cotacao_euro)\n",
    "\n",
    "# Etapa 7:  Corrigindo os valores de Valor Compra e Valor Venda.\n",
    "tabela['Valor Compra'] = round(tabela['Valor Original'] * tabela['Cotação'],2)\n",
    "tabela['Valor Venda'] = round(tabela['Valor Compra'] * tabela['Margem'] ,2)\n",
    "\n",
    "# Visualizando a tabela atualizada\n",
    "tabela"
   ]
  },
  {
   "cell_type": "code",
   "execution_count": null,
   "id": "53092e27-1d44-4d6e-a9c9-136cd8e638af",
   "metadata": {},
   "outputs": [],
   "source": []
  },
  {
   "cell_type": "code",
   "execution_count": null,
   "id": "6f75524d-715e-47b7-8aef-77fdd2b66bf8",
   "metadata": {},
   "outputs": [],
   "source": []
  }
 ],
 "metadata": {
  "kernelspec": {
   "display_name": "Python 3 (ipykernel)",
   "language": "python",
   "name": "python3"
  },
  "language_info": {
   "codemirror_mode": {
    "name": "ipython",
    "version": 3
   },
   "file_extension": ".py",
   "mimetype": "text/x-python",
   "name": "python",
   "nbconvert_exporter": "python",
   "pygments_lexer": "ipython3",
   "version": "3.11.5"
  }
 },
 "nbformat": 4,
 "nbformat_minor": 5
}
